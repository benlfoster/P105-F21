{
 "cells": [
  {
   "cell_type": "code",
   "execution_count": null,
   "id": "1949b6b8",
   "metadata": {},
   "outputs": [],
   "source": [
    "import numpy as np\n",
    "import matplotlib.pyplot as plt\n",
    "from numpy import sqrt, pi, sin, cos\n",
    "from scipy.integrate import ode\n"
   ]
  },
  {
   "cell_type": "markdown",
   "id": "08c10def",
   "metadata": {},
   "source": [
    "Consider a damped driven oscillator obeying the equation of motion: $$\\ddot{x} + 2 \\beta \\dot{x} + \\omega_0^2 x = \\cos(\\Omega t)$$\n",
    "with particular solution given by:\n",
    "$$x_p(t)=D\\cos(\\Omega t - \\delta)$$\n",
    "Write down the equation for the long time limit amplitude $D(\\beta,\\omega_0,\\Omega)$ and the phase shift $\\delta(\\beta,\\omega_0,\\Omega)$ and plot $D(\\Omega)$ for $\\beta=0.1,0.2,0.4,0.6$ and $\\omega_0=1.0$\n",
    "Confirm that the resonant frequency is given by $\\omega_R = \\sqrt{\\omega_0^2-2\\beta^2}$ on the plot"
   ]
  },
  {
   "cell_type": "markdown",
   "id": "8ab11a7e",
   "metadata": {},
   "source": [
    "$$\\newline$$\n",
    "A: Write answer here or submit with your paper homework\n"
   ]
  },
  {
   "cell_type": "code",
   "execution_count": null,
   "id": "e0bc76c0",
   "metadata": {},
   "outputs": [],
   "source": [
    "#here is some scaffolding for the python plot.\n",
    "\n",
    "def g(W,b):\n",
    "    return   #write the equation for D(beta,omega_0) here\n",
    "\n",
    "wt=np.linspace(0,2.5,1000)  #here we define the set of Omega values we will evaluate D at.\n",
    "b_range = #construct a list of the beta values you would like to plot at \n",
    "for br in b_range:    \n",
    "    plt.plot(wt,g(wt,br))\n",
    "      #you can use plt.xline(x=...) to plot a vertical line at a value of x\n",
    "\n",
    "plt.xlabel('$\\Omega$')\n",
    "plt.ylabel('D')"
   ]
  },
  {
   "cell_type": "markdown",
   "id": "9c9059b6",
   "metadata": {},
   "source": [
    "We'd like to understand a little better what these values of $D$ represent, so we're now going to numerically solve the differential equation to get the solutions $x(t)$ for varying $\\beta$ and fixed values of $\\omega_0,\\Omega$.  This part of the problem is scaffolded for you, so you just need to pick values of $\\beta$ and $\\Omega$ and determine the resulting long time behavior of the solution"
   ]
  },
  {
   "cell_type": "code",
   "execution_count": null,
   "id": "67097d9a",
   "metadata": {},
   "outputs": [],
   "source": [
    "#let's just pick a driving frequency value to examine. we'll take Omega=1.3 for all of these results\n",
    "W=1.3\n",
    "w0=1.0  #we're continuing with omega_0=1.0\n",
    "\n",
    "\n",
    "#now pick a value of beta that we plotted D for above\n",
    "b=0.2\n",
    "\n",
    "\n",
    "#We can rewrite our second order differential equation as 2 first order equations as shown below\n",
    "# take z = [z1, z2] = [x, x']\n",
    "# and then f = z' = [x', x''] = [z2, -2 b z2-w0^2 z1 + cos(W t)]\n",
    "#If this is confusing, try plugging in (x,x') for (z1,z2) and you should find it reproduces our original ODE\n",
    "def f(t, z):\n",
    "    return [z[1], -2*b*z[1]-w0**2*z[0]+np.cos(W*t)]\n",
    "solver = ode(f).set_integrator('dopri5')  # initialize a 4th order Runge-Kutta solver\n",
    "\n",
    "# initial conditions (starting at rest at x=0, but you can experiment with other IC's!)\n",
    "z0 = [0., 0.]\n",
    "solver.set_initial_value(z0)\n",
    "\n",
    "values = 10000  \n",
    "t = np.linspace(0.000001, 50.*pi, values)  #we will solve this over the time range from 0 to 50*pi. \n",
    "#This way it has enough time to settle into a regular pattern\n",
    "u = np.zeros(values)  #initialize all values of x,x' to 0\n",
    "\n",
    "for ii in range(values):\n",
    "    u[ii] = solver.integrate(t[ii])[0] #solve the ODE\n",
    "\n",
    "\n",
    "plt.figure()\n",
    "plt.plot(u)\n",
    "plt.axhline(y=1.0, color='r', linestyle='-')  #use this line to identify where the long time limit amplitude is (roughly)\n",
    "plt.grid()\n",
    "plt.show()"
   ]
  },
  {
   "cell_type": "markdown",
   "id": "ddceddc0",
   "metadata": {},
   "source": [
    "Once you've determined the long term amplitude for several values of $\\beta$, plot their coordinates $(\\Omega,D)$ on your plot from above"
   ]
  },
  {
   "cell_type": "code",
   "execution_count": 1,
   "id": "bb3cc2ea",
   "metadata": {
    "scrolled": true
   },
   "outputs": [],
   "source": [
    "#just copy your code in here from your first code block where you plotted (Omega,D), but do a scatter plot of the coordinates you found on top"
   ]
  },
  {
   "cell_type": "code",
   "execution_count": null,
   "id": "00703445",
   "metadata": {},
   "outputs": [],
   "source": []
  }
 ],
 "metadata": {
  "kernelspec": {
   "display_name": "Python 3",
   "language": "python",
   "name": "python3"
  },
  "language_info": {
   "codemirror_mode": {
    "name": "ipython",
    "version": 3
   },
   "file_extension": ".py",
   "mimetype": "text/x-python",
   "name": "python",
   "nbconvert_exporter": "python",
   "pygments_lexer": "ipython3",
   "version": "3.9.1"
  }
 },
 "nbformat": 4,
 "nbformat_minor": 5
}
