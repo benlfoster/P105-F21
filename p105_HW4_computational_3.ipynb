{
 "cells": [
  {
   "cell_type": "markdown",
   "metadata": {},
   "source": [
    "# P105 Homework 4 Computational Problems"
   ]
  },
  {
   "cell_type": "markdown",
   "metadata": {},
   "source": [
    "## Question 1: Fourier Series"
   ]
  },
  {
   "cell_type": "markdown",
   "metadata": {},
   "source": [
    "### Learning objectives\n",
    "In this question you will:\n",
    "\n",
    "- understand how a function can be expanded in a series\n",
    "- see how the accuracy of an approximation improves with the number of terms\n"
   ]
  },
  {
   "cell_type": "markdown",
   "metadata": {
    "flags": [
     "problems",
     "solutions"
    ]
   },
   "source": [
    "The set of square-integrable functions ($\\int |f(x)|^2dx<\\infty$) on the interval $[0,\\lambda]$ make up a _Hilbert space_, which is a vector space with an inner product that satisfies certain properties. In this case the space is known as $L^2([0,\\lambda])$, with inner product $\\langle f,g\\rangle = \\int_0^\\lambda f(x)g(x)\\:dx$.\n",
    "\n",
    "With $k_n=n\\frac{2\\pi}{\\lambda}$, the functions $c_n = \\cos(k_nx)$ and $s_n =\\sin(k_nx)$ form a __complete and orthogonal basis__ of this Hilbert space, known as the _Fourier basis_. Orthogonality means \\begin{align} \\langle c_m,c_n\\rangle &=C_n\\delta_{m,n},\\\\\\langle s_m,s_n\\rangle &=S_n\\delta_{m,n},\\\\\\langle c_n,s_m\\rangle &= 0,\\end{align} and completeness means $$\\forall f\\in L^2([0,\\lambda]),\\quad f = \\sum_{n=0}^\\infty\\left(\\frac{\\langle f,c_n\\rangle}{C_n} c_n+\\frac{\\langle f,s_n\\rangle}{S_n} s_n\\right).$$ This means that any square-integrable function $f(x)$ on a finite domain can be written as a sum of sines and cosines, $$f(x)=\\sum_{n=0}^\\infty\\big(A_n\\cos(k_nx)+B_n\\sin(k_nx)\\big).$$ Furthermore, we are guaranteed that at all points $x$ where $f$ is continuous, the above sum converges (so the terms $A_n\\cos(k_nx)+B_n\\sin(k_nx)$ decrease sufficiently quickly).\n",
    "\n",
    "(We have formulated things in terms of $x$, suggesting a \"spatial\" variable, but of course this holds for functions of any variable. When the variable is \"time\", the symbols used are conventionally $t$, $\\omega$, and $T$ instead of $x$, $k$, and $\\lambda$. Also, $s_0=0$ and is implicitly excluded from the above sums.)"
   ]
  },
  {
   "cell_type": "markdown",
   "metadata": {},
   "source": [
    "### 1a. "
   ]
  },
  {
   "cell_type": "markdown",
   "metadata": {
    "flags": [
     "problems",
     "solutions"
    ]
   },
   "source": [
    "Find the Fourier coefficients $A_n$ and $B_n$ of a square function, which is a common periodic signal: $$f(x)=\\begin{cases}f_0&\\text{if }a\\le x\\le b\\\\f_1&\\text{else}\\end{cases},$$ for $0\\le a\\le b\\le\\lambda$ and periodically repeated beyond this interval.\n",
    "\n",
    "Hint: adding a constant to a function only changes the $A_0$ term."
   ]
  },
  {
   "cell_type": "markdown",
   "metadata": {},
   "source": [
    "Submit this answer with your paper homework."
   ]
  },
  {
   "cell_type": "markdown",
   "metadata": {},
   "source": [
    "### 1b. "
   ]
  },
  {
   "cell_type": "markdown",
   "metadata": {
    "flags": [
     "problems",
     "solutions"
    ]
   },
   "source": [
    "While we have exact equality in the $n\\rightarrow\\infty$ limit, with finite resources we may only compute a finite number of terms. Plot the true signal, on top of the approximations with 2, 5, 10, and 100 terms. Set $a=\\frac{\\lambda}{2}$, $b=\\lambda$, $\\lambda=2\\pi$, and $f_0=-f_1=1$. This is a translation by $\\pi$ of the square wave problem done in class."
   ]
  },
  {
   "cell_type": "code",
   "execution_count": null,
   "metadata": {
    "collapsed": true
   },
   "outputs": [],
   "source": [
    "#Write your answer here"
   ]
  },
  {
   "cell_type": "markdown",
   "metadata": {},
   "source": [
    "### 1c. "
   ]
  },
  {
   "cell_type": "markdown",
   "metadata": {
    "flags": [
     "problems",
     "solutions"
    ]
   },
   "source": [
    "Now compute the Fourier series representation of the triangular function, $$f(x)=\\begin{cases}x&\\text{if }0\\le x\\le\\frac{\\lambda}{4}\\\\\\frac{\\lambda}{2}-x&\\text{if }\\frac{\\lambda}{4}\\le x\\le\\frac{3\\lambda}{4}\\\\x-\\lambda&\\text{if }\\frac{3\\lambda}{4}\\le x\\le\\lambda\\end{cases},$$ periodically continued.\n",
    "\n",
    "Hint: Use integration by parts."
   ]
  },
  {
   "cell_type": "markdown",
   "metadata": {},
   "source": [
    "Submit this answer with your paper homework."
   ]
  },
  {
   "cell_type": "markdown",
   "metadata": {},
   "source": [
    "### 1d. "
   ]
  },
  {
   "cell_type": "markdown",
   "metadata": {
    "flags": [
     "problems",
     "solutions"
    ]
   },
   "source": [
    "Plot the true signal for the triangular function, on top of the approximations with 2, 5, 10, and 100 terms. Again, set $\\lambda=2\\pi$."
   ]
  },
  {
   "cell_type": "code",
   "execution_count": null,
   "metadata": {
    "collapsed": true
   },
   "outputs": [],
   "source": [
    "#Write your answer here"
   ]
  },
  {
   "cell_type": "markdown",
   "metadata": {},
   "source": [
    "### 1e. "
   ]
  },
  {
   "cell_type": "markdown",
   "metadata": {
    "flags": [
     "problems",
     "solutions"
    ]
   },
   "source": [
    "For each of the functions whose Fourier series you have computed, estimate the absolute value of the overshoot or undershoot at the kink or discontinuity caused by the Gibbs phenomenon as a function of the number of terms in the series. Plot your results on the sample plot for each $n\\le 100$, with the errors in a log-scale.\n",
    "\n",
    "Hint: if you used a fine enough resolution for your plotting array ($k_n\\Delta x\\ll 1$), just find the sampled overshoot by e.g. comparing the maximum/minimum sampled value to the true max/min."
   ]
  },
  {
   "cell_type": "code",
   "execution_count": null,
   "metadata": {
    "collapsed": true
   },
   "outputs": [],
   "source": [
    "#Write your answer here"
   ]
  }
 ],
 "metadata": {
  "kernelspec": {
   "display_name": "Python 3",
   "language": "python",
   "name": "python3"
  },
  "language_info": {
   "codemirror_mode": {
    "name": "ipython",
    "version": 3
   },
   "file_extension": ".py",
   "mimetype": "text/x-python",
   "name": "python",
   "nbconvert_exporter": "python",
   "pygments_lexer": "ipython3",
   "version": "3.9.1"
  }
 },
 "nbformat": 4,
 "nbformat_minor": 2
}
